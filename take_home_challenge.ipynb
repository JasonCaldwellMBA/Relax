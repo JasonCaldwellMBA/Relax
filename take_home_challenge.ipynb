{
 "cells": [
  {
   "cell_type": "markdown",
   "source": [
    "# Relax Inc. Challenge"
   ],
   "metadata": {
    "collapsed": false,
    "pycharm": {
     "name": "#%% md\n"
    }
   }
  },
  {
   "cell_type": "code",
   "execution_count": 1,
   "metadata": {
    "collapsed": true
   },
   "outputs": [],
   "source": [
    "import numpy as np\n",
    "import pandas as pd\n",
    "from sklearn.ensemble import RandomForestClassifier\n",
    "import seaborn as sns\n",
    "import matplotlib.pyplot as plt"
   ]
  },
  {
   "cell_type": "markdown",
   "source": [
    "## Load Data"
   ],
   "metadata": {
    "collapsed": false,
    "pycharm": {
     "name": "#%% md\n"
    }
   }
  },
  {
   "cell_type": "code",
   "execution_count": 2,
   "outputs": [
    {
     "data": {
      "text/plain": "   object_id        creation_time               name  \\\n0          1  2014-04-22 03:53:30     Clausen August   \n1          2  2013-11-15 03:45:04      Poole Matthew   \n2          3  2013-03-19 23:14:52  Bottrill Mitchell   \n\n                        email creation_source  last_session_creation_time  \\\n0    AugustCClausen@yahoo.com    GUEST_INVITE                1.398139e+09   \n1      MatthewPoole@gustr.com      ORG_INVITE                1.396238e+09   \n2  MitchellBottrill@gustr.com      ORG_INVITE                1.363735e+09   \n\n   opted_in_to_mailing_list  enabled_for_marketing_drip  org_id  \\\n0                         1                           0      11   \n1                         0                           0       1   \n2                         0                           0      94   \n\n   invited_by_user_id  \n0             10803.0  \n1               316.0  \n2              1525.0  ",
      "text/html": "<div>\n<style scoped>\n    .dataframe tbody tr th:only-of-type {\n        vertical-align: middle;\n    }\n\n    .dataframe tbody tr th {\n        vertical-align: top;\n    }\n\n    .dataframe thead th {\n        text-align: right;\n    }\n</style>\n<table border=\"1\" class=\"dataframe\">\n  <thead>\n    <tr style=\"text-align: right;\">\n      <th></th>\n      <th>object_id</th>\n      <th>creation_time</th>\n      <th>name</th>\n      <th>email</th>\n      <th>creation_source</th>\n      <th>last_session_creation_time</th>\n      <th>opted_in_to_mailing_list</th>\n      <th>enabled_for_marketing_drip</th>\n      <th>org_id</th>\n      <th>invited_by_user_id</th>\n    </tr>\n  </thead>\n  <tbody>\n    <tr>\n      <th>0</th>\n      <td>1</td>\n      <td>2014-04-22 03:53:30</td>\n      <td>Clausen August</td>\n      <td>AugustCClausen@yahoo.com</td>\n      <td>GUEST_INVITE</td>\n      <td>1.398139e+09</td>\n      <td>1</td>\n      <td>0</td>\n      <td>11</td>\n      <td>10803.0</td>\n    </tr>\n    <tr>\n      <th>1</th>\n      <td>2</td>\n      <td>2013-11-15 03:45:04</td>\n      <td>Poole Matthew</td>\n      <td>MatthewPoole@gustr.com</td>\n      <td>ORG_INVITE</td>\n      <td>1.396238e+09</td>\n      <td>0</td>\n      <td>0</td>\n      <td>1</td>\n      <td>316.0</td>\n    </tr>\n    <tr>\n      <th>2</th>\n      <td>3</td>\n      <td>2013-03-19 23:14:52</td>\n      <td>Bottrill Mitchell</td>\n      <td>MitchellBottrill@gustr.com</td>\n      <td>ORG_INVITE</td>\n      <td>1.363735e+09</td>\n      <td>0</td>\n      <td>0</td>\n      <td>94</td>\n      <td>1525.0</td>\n    </tr>\n  </tbody>\n</table>\n</div>"
     },
     "execution_count": 2,
     "metadata": {},
     "output_type": "execute_result"
    }
   ],
   "source": [
    "# 12,000 users who signed up for the product in the last two years.\n",
    "df_users = pd.read_csv(\"./takehome_users.csv\")\n",
    "df_users.head(3)"
   ],
   "metadata": {
    "collapsed": false,
    "pycharm": {
     "name": "#%%\n"
    }
   }
  },
  {
   "cell_type": "code",
   "execution_count": 3,
   "outputs": [
    {
     "data": {
      "text/plain": "            time_stamp  user_id  visited\n0  2014-04-22 03:53:30        1        1\n1  2013-11-15 03:45:04        2        1\n2  2013-11-29 03:45:04        2        1",
      "text/html": "<div>\n<style scoped>\n    .dataframe tbody tr th:only-of-type {\n        vertical-align: middle;\n    }\n\n    .dataframe tbody tr th {\n        vertical-align: top;\n    }\n\n    .dataframe thead th {\n        text-align: right;\n    }\n</style>\n<table border=\"1\" class=\"dataframe\">\n  <thead>\n    <tr style=\"text-align: right;\">\n      <th></th>\n      <th>time_stamp</th>\n      <th>user_id</th>\n      <th>visited</th>\n    </tr>\n  </thead>\n  <tbody>\n    <tr>\n      <th>0</th>\n      <td>2014-04-22 03:53:30</td>\n      <td>1</td>\n      <td>1</td>\n    </tr>\n    <tr>\n      <th>1</th>\n      <td>2013-11-15 03:45:04</td>\n      <td>2</td>\n      <td>1</td>\n    </tr>\n    <tr>\n      <th>2</th>\n      <td>2013-11-29 03:45:04</td>\n      <td>2</td>\n      <td>1</td>\n    </tr>\n  </tbody>\n</table>\n</div>"
     },
     "execution_count": 3,
     "metadata": {},
     "output_type": "execute_result"
    }
   ],
   "source": [
    "# Usage summary table  that has a row for each day that a user logged into the product.\n",
    "df_engagement = pd.read_csv(\"./takehome_user_engagement.csv\")\n",
    "df_engagement.head(3)"
   ],
   "metadata": {
    "collapsed": false,
    "pycharm": {
     "name": "#%%\n"
    }
   }
  },
  {
   "cell_type": "markdown",
   "source": [
    "## Clean and Explore Data"
   ],
   "metadata": {
    "collapsed": false,
    "pycharm": {
     "name": "#%% md\n"
    }
   }
  },
  {
   "cell_type": "code",
   "execution_count": 4,
   "outputs": [
    {
     "name": "stdout",
     "output_type": "stream",
     "text": [
      "<class 'pandas.core.frame.DataFrame'>\n",
      "RangeIndex: 12000 entries, 0 to 11999\n",
      "Data columns (total 10 columns):\n",
      " #   Column                      Non-Null Count  Dtype  \n",
      "---  ------                      --------------  -----  \n",
      " 0   object_id                   12000 non-null  int64  \n",
      " 1   creation_time               12000 non-null  object \n",
      " 2   name                        12000 non-null  object \n",
      " 3   email                       12000 non-null  object \n",
      " 4   creation_source             12000 non-null  object \n",
      " 5   last_session_creation_time  8823 non-null   float64\n",
      " 6   opted_in_to_mailing_list    12000 non-null  int64  \n",
      " 7   enabled_for_marketing_drip  12000 non-null  int64  \n",
      " 8   org_id                      12000 non-null  int64  \n",
      " 9   invited_by_user_id          6417 non-null   float64\n",
      "dtypes: float64(2), int64(4), object(4)\n",
      "memory usage: 937.6+ KB\n"
     ]
    }
   ],
   "source": [
    "# Inspect users\n",
    "df_users.info()"
   ],
   "metadata": {
    "collapsed": false,
    "pycharm": {
     "name": "#%%\n"
    }
   }
  },
  {
   "cell_type": "code",
   "execution_count": 5,
   "outputs": [
    {
     "data": {
      "text/plain": "invited_by_user_id            5583\nlast_session_creation_time    3177\nobject_id                        0\ncreation_time                    0\nname                             0\nemail                            0\ncreation_source                  0\nopted_in_to_mailing_list         0\nenabled_for_marketing_drip       0\norg_id                           0\ndtype: int64"
     },
     "execution_count": 5,
     "metadata": {},
     "output_type": "execute_result"
    }
   ],
   "source": [
    "# Counts of null values \n",
    "df_users.isna().sum().sort_values(ascending=False)"
   ],
   "metadata": {
    "collapsed": false,
    "pycharm": {
     "name": "#%%\n"
    }
   }
  },
  {
   "cell_type": "code",
   "execution_count": 6,
   "outputs": [
    {
     "name": "stdout",
     "output_type": "stream",
     "text": [
      "<class 'pandas.core.frame.DataFrame'>\n",
      "RangeIndex: 207917 entries, 0 to 207916\n",
      "Data columns (total 3 columns):\n",
      " #   Column      Non-Null Count   Dtype \n",
      "---  ------      --------------   ----- \n",
      " 0   time_stamp  207917 non-null  object\n",
      " 1   user_id     207917 non-null  int64 \n",
      " 2   visited     207917 non-null  int64 \n",
      "dtypes: int64(2), object(1)\n",
      "memory usage: 4.8+ MB\n"
     ]
    }
   ],
   "source": [
    "# Inspect engagement\n",
    "df_engagement.info()"
   ],
   "metadata": {
    "collapsed": false,
    "pycharm": {
     "name": "#%%\n"
    }
   }
  },
  {
   "cell_type": "code",
   "execution_count": 7,
   "outputs": [
    {
     "data": {
      "text/plain": "time_stamp    0\nuser_id       0\nvisited       0\ndtype: int64"
     },
     "execution_count": 7,
     "metadata": {},
     "output_type": "execute_result"
    }
   ],
   "source": [
    "# Counts of null values \n",
    "df_engagement.isna().sum().sort_values(ascending=False)"
   ],
   "metadata": {
    "collapsed": false,
    "pycharm": {
     "name": "#%%\n"
    }
   }
  },
  {
   "cell_type": "code",
   "execution_count": 8,
   "outputs": [
    {
     "data": {
      "text/plain": "                    visited\nuser_id time_stamp         \n1       2014-04-27        1\n2       2013-11-17        1\n        2013-11-24        0\n        2013-12-01        1\n        2013-12-08        0\n        2013-12-15        1\n        2013-12-22        0\n        2013-12-29        1\n        2014-01-05        1\n        2014-01-12        1\n        2014-01-19        0\n        2014-01-26        0\n        2014-02-02        0\n        2014-02-09        3\n        2014-02-16        2\n        2014-02-23        0\n        2014-03-02        0\n        2014-03-09        1\n        2014-03-16        1\n        2014-03-23        0\n        2014-03-30        0\n        2014-04-06        1\n3       2013-03-24        1\n4       2013-05-26        1\n5       2013-01-27        1",
      "text/html": "<div>\n<style scoped>\n    .dataframe tbody tr th:only-of-type {\n        vertical-align: middle;\n    }\n\n    .dataframe tbody tr th {\n        vertical-align: top;\n    }\n\n    .dataframe thead th {\n        text-align: right;\n    }\n</style>\n<table border=\"1\" class=\"dataframe\">\n  <thead>\n    <tr style=\"text-align: right;\">\n      <th></th>\n      <th></th>\n      <th>visited</th>\n    </tr>\n    <tr>\n      <th>user_id</th>\n      <th>time_stamp</th>\n      <th></th>\n    </tr>\n  </thead>\n  <tbody>\n    <tr>\n      <th>1</th>\n      <th>2014-04-27</th>\n      <td>1</td>\n    </tr>\n    <tr>\n      <th rowspan=\"21\" valign=\"top\">2</th>\n      <th>2013-11-17</th>\n      <td>1</td>\n    </tr>\n    <tr>\n      <th>2013-11-24</th>\n      <td>0</td>\n    </tr>\n    <tr>\n      <th>2013-12-01</th>\n      <td>1</td>\n    </tr>\n    <tr>\n      <th>2013-12-08</th>\n      <td>0</td>\n    </tr>\n    <tr>\n      <th>2013-12-15</th>\n      <td>1</td>\n    </tr>\n    <tr>\n      <th>2013-12-22</th>\n      <td>0</td>\n    </tr>\n    <tr>\n      <th>2013-12-29</th>\n      <td>1</td>\n    </tr>\n    <tr>\n      <th>2014-01-05</th>\n      <td>1</td>\n    </tr>\n    <tr>\n      <th>2014-01-12</th>\n      <td>1</td>\n    </tr>\n    <tr>\n      <th>2014-01-19</th>\n      <td>0</td>\n    </tr>\n    <tr>\n      <th>2014-01-26</th>\n      <td>0</td>\n    </tr>\n    <tr>\n      <th>2014-02-02</th>\n      <td>0</td>\n    </tr>\n    <tr>\n      <th>2014-02-09</th>\n      <td>3</td>\n    </tr>\n    <tr>\n      <th>2014-02-16</th>\n      <td>2</td>\n    </tr>\n    <tr>\n      <th>2014-02-23</th>\n      <td>0</td>\n    </tr>\n    <tr>\n      <th>2014-03-02</th>\n      <td>0</td>\n    </tr>\n    <tr>\n      <th>2014-03-09</th>\n      <td>1</td>\n    </tr>\n    <tr>\n      <th>2014-03-16</th>\n      <td>1</td>\n    </tr>\n    <tr>\n      <th>2014-03-23</th>\n      <td>0</td>\n    </tr>\n    <tr>\n      <th>2014-03-30</th>\n      <td>0</td>\n    </tr>\n    <tr>\n      <th>2014-04-06</th>\n      <td>1</td>\n    </tr>\n    <tr>\n      <th>3</th>\n      <th>2013-03-24</th>\n      <td>1</td>\n    </tr>\n    <tr>\n      <th>4</th>\n      <th>2013-05-26</th>\n      <td>1</td>\n    </tr>\n    <tr>\n      <th>5</th>\n      <th>2013-01-27</th>\n      <td>1</td>\n    </tr>\n  </tbody>\n</table>\n</div>"
     },
     "execution_count": 8,
     "metadata": {},
     "output_type": "execute_result"
    }
   ],
   "source": [
    "# Defining an \"adopted user\" as a user who  has logged into the product on three separate days in at least one seven day period.\n",
    "# Get data in helpful format for date analysis.\n",
    "df_engagement['time_stamp'] = pd.to_datetime(df_engagement['time_stamp'])\n",
    "df_engagement = df_engagement.set_index('time_stamp')\n",
    "# Group by user and count total logins per week.\n",
    "df_engagement = df_engagement.groupby(by='user_id').resample('1W').sum()\n",
    "# user_id is now duplicated (is the index and a column).\n",
    "df_engagement.drop('user_id', axis=1, inplace=True)\n",
    "df_engagement.head(25)"
   ],
   "metadata": {
    "collapsed": false,
    "pycharm": {
     "name": "#%%\n"
    }
   }
  },
  {
   "cell_type": "code",
   "execution_count": 9,
   "outputs": [
    {
     "data": {
      "text/plain": "                    visited\nuser_id time_stamp         \n2       2014-02-09        3\n10      2013-03-03        3\n        2013-04-14        3\n        2013-04-28        3\n        2013-05-05        4",
      "text/html": "<div>\n<style scoped>\n    .dataframe tbody tr th:only-of-type {\n        vertical-align: middle;\n    }\n\n    .dataframe tbody tr th {\n        vertical-align: top;\n    }\n\n    .dataframe thead th {\n        text-align: right;\n    }\n</style>\n<table border=\"1\" class=\"dataframe\">\n  <thead>\n    <tr style=\"text-align: right;\">\n      <th></th>\n      <th></th>\n      <th>visited</th>\n    </tr>\n    <tr>\n      <th>user_id</th>\n      <th>time_stamp</th>\n      <th></th>\n    </tr>\n  </thead>\n  <tbody>\n    <tr>\n      <th>2</th>\n      <th>2014-02-09</th>\n      <td>3</td>\n    </tr>\n    <tr>\n      <th rowspan=\"4\" valign=\"top\">10</th>\n      <th>2013-03-03</th>\n      <td>3</td>\n    </tr>\n    <tr>\n      <th>2013-04-14</th>\n      <td>3</td>\n    </tr>\n    <tr>\n      <th>2013-04-28</th>\n      <td>3</td>\n    </tr>\n    <tr>\n      <th>2013-05-05</th>\n      <td>4</td>\n    </tr>\n  </tbody>\n</table>\n</div>"
     },
     "execution_count": 9,
     "metadata": {},
     "output_type": "execute_result"
    }
   ],
   "source": [
    "df_adopted = df_engagement[df_engagement['visited'] >= 3]\n",
    "df_adopted.head()"
   ],
   "metadata": {
    "collapsed": false,
    "pycharm": {
     "name": "#%%\n"
    }
   }
  },
  {
   "cell_type": "code",
   "execution_count": 10,
   "outputs": [
    {
     "data": {
      "text/plain": "1445"
     },
     "execution_count": 10,
     "metadata": {},
     "output_type": "execute_result"
    }
   ],
   "source": [
    "# Get the unique user ids in the MultiIndex.\n",
    "adopted_user_id = list(df_adopted.index.unique(level=0))\n",
    "len(adopted_user_id)"
   ],
   "metadata": {
    "collapsed": false,
    "pycharm": {
     "name": "#%%\n"
    }
   }
  },
  {
   "cell_type": "markdown",
   "source": [
    "There are 1,445 out of 12,000 users that meet the adopted criteria for this project.\n",
    "\n",
    "Note: Originally, I attempted to merge the dataframes first on an inner join and then do the analysis above.\n",
    "However, this was a mistake because it made the combined dataframe much larger with a lot of duplicate data.\n",
    "Also, this would have introduced data leakage because the features in the engagement file should not be used in the model evaluation later."
   ],
   "metadata": {
    "collapsed": false,
    "pycharm": {
     "name": "#%% md\n"
    }
   }
  },
  {
   "cell_type": "code",
   "execution_count": 11,
   "outputs": [
    {
     "data": {
      "text/plain": "   object_id        creation_time               name  \\\n0          1  2014-04-22 03:53:30     Clausen August   \n1          2  2013-11-15 03:45:04      Poole Matthew   \n2          3  2013-03-19 23:14:52  Bottrill Mitchell   \n\n                        email creation_source  last_session_creation_time  \\\n0    AugustCClausen@yahoo.com    GUEST_INVITE                1.398139e+09   \n1      MatthewPoole@gustr.com      ORG_INVITE                1.396238e+09   \n2  MitchellBottrill@gustr.com      ORG_INVITE                1.363735e+09   \n\n   opted_in_to_mailing_list  enabled_for_marketing_drip  org_id  \\\n0                         1                           0      11   \n1                         0                           0       1   \n2                         0                           0      94   \n\n   invited_by_user_id  is_adopted  \n0             10803.0           0  \n1               316.0           1  \n2              1525.0           0  ",
      "text/html": "<div>\n<style scoped>\n    .dataframe tbody tr th:only-of-type {\n        vertical-align: middle;\n    }\n\n    .dataframe tbody tr th {\n        vertical-align: top;\n    }\n\n    .dataframe thead th {\n        text-align: right;\n    }\n</style>\n<table border=\"1\" class=\"dataframe\">\n  <thead>\n    <tr style=\"text-align: right;\">\n      <th></th>\n      <th>object_id</th>\n      <th>creation_time</th>\n      <th>name</th>\n      <th>email</th>\n      <th>creation_source</th>\n      <th>last_session_creation_time</th>\n      <th>opted_in_to_mailing_list</th>\n      <th>enabled_for_marketing_drip</th>\n      <th>org_id</th>\n      <th>invited_by_user_id</th>\n      <th>is_adopted</th>\n    </tr>\n  </thead>\n  <tbody>\n    <tr>\n      <th>0</th>\n      <td>1</td>\n      <td>2014-04-22 03:53:30</td>\n      <td>Clausen August</td>\n      <td>AugustCClausen@yahoo.com</td>\n      <td>GUEST_INVITE</td>\n      <td>1.398139e+09</td>\n      <td>1</td>\n      <td>0</td>\n      <td>11</td>\n      <td>10803.0</td>\n      <td>0</td>\n    </tr>\n    <tr>\n      <th>1</th>\n      <td>2</td>\n      <td>2013-11-15 03:45:04</td>\n      <td>Poole Matthew</td>\n      <td>MatthewPoole@gustr.com</td>\n      <td>ORG_INVITE</td>\n      <td>1.396238e+09</td>\n      <td>0</td>\n      <td>0</td>\n      <td>1</td>\n      <td>316.0</td>\n      <td>1</td>\n    </tr>\n    <tr>\n      <th>2</th>\n      <td>3</td>\n      <td>2013-03-19 23:14:52</td>\n      <td>Bottrill Mitchell</td>\n      <td>MitchellBottrill@gustr.com</td>\n      <td>ORG_INVITE</td>\n      <td>1.363735e+09</td>\n      <td>0</td>\n      <td>0</td>\n      <td>94</td>\n      <td>1525.0</td>\n      <td>0</td>\n    </tr>\n  </tbody>\n</table>\n</div>"
     },
     "execution_count": 11,
     "metadata": {},
     "output_type": "execute_result"
    }
   ],
   "source": [
    "# Now, it is time to add the target feature (if the user is an adopted user or not) to the users dataframe.\n",
    "df_users['is_adopted'] = np.where(df_users.object_id.isin(adopted_user_id), 1, 0)\n",
    "# Expect new column to total 1,445. There will be an error if this isn't the case.\n",
    "assert(df_users.is_adopted.sum() == 1445)\n",
    "df_users.head(3)"
   ],
   "metadata": {
    "collapsed": false,
    "pycharm": {
     "name": "#%%\n"
    }
   }
  },
  {
   "cell_type": "markdown",
   "source": [
    "Earlier we determined some data was missing:  \n",
    "- invited_by_user_id:            5583\n",
    "- last_session_creation_time:    3177\n",
    "\n",
    "Will set missing values for invited_by_user_id means to -1 because assuming this means the user created the account without a referral. \n",
    "Then, will set last_session_creation_time to 0 because assuming this means the user is currently inactive because they either: \n",
    "- created the account and then never logged in.\n",
    "- had a last login that was before the time period of this project's data.\n",
    "\n",
    "Would also potentially review these assumptions with someone on my team on a real project if I was unsure what the preferred process was."
   ],
   "metadata": {
    "collapsed": false,
    "pycharm": {
     "name": "#%% md\n"
    }
   }
  },
  {
   "cell_type": "code",
   "execution_count": 12,
   "outputs": [
    {
     "name": "stdout",
     "output_type": "stream",
     "text": [
      "<class 'pandas.core.frame.DataFrame'>\n",
      "RangeIndex: 12000 entries, 0 to 11999\n",
      "Data columns (total 11 columns):\n",
      " #   Column                      Non-Null Count  Dtype  \n",
      "---  ------                      --------------  -----  \n",
      " 0   object_id                   12000 non-null  int64  \n",
      " 1   creation_time               12000 non-null  object \n",
      " 2   name                        12000 non-null  object \n",
      " 3   email                       12000 non-null  object \n",
      " 4   creation_source             12000 non-null  object \n",
      " 5   last_session_creation_time  12000 non-null  float64\n",
      " 6   opted_in_to_mailing_list    12000 non-null  int64  \n",
      " 7   enabled_for_marketing_drip  12000 non-null  int64  \n",
      " 8   org_id                      12000 non-null  int64  \n",
      " 9   invited_by_user_id          12000 non-null  float64\n",
      " 10  is_adopted                  12000 non-null  int32  \n",
      "dtypes: float64(2), int32(1), int64(4), object(4)\n",
      "memory usage: 984.5+ KB\n"
     ]
    }
   ],
   "source": [
    "df_users.invited_by_user_id.fillna(-1, inplace=True)\n",
    "df_users.last_session_creation_time.fillna(0, inplace=True)\n",
    "df_users.info()"
   ],
   "metadata": {
    "collapsed": false,
    "pycharm": {
     "name": "#%%\n"
    }
   }
  },
  {
   "cell_type": "code",
   "execution_count": 13,
   "outputs": [
    {
     "data": {
      "text/plain": "gmail.com         3562\nyahoo.com         2447\njourrapide.com    1259\ncuvox.de          1202\ngustr.com         1179\nhotmail.com       1165\nName: domain, dtype: int64"
     },
     "execution_count": 13,
     "metadata": {},
     "output_type": "execute_result"
    }
   ],
   "source": [
    "# Remove possibly sensitive data\n",
    "# Create a column with just the domain name for the email address.\n",
    "df_users['domain'] = [x.split('@')[1] for x in df_users['email']]\n",
    "# Find common_domains\n",
    "df_users.domain.value_counts().loc[lambda x: x > 1000]"
   ],
   "metadata": {
    "collapsed": false,
    "pycharm": {
     "name": "#%%\n"
    }
   }
  },
  {
   "cell_type": "code",
   "execution_count": 14,
   "outputs": [
    {
     "data": {
      "text/plain": "   object_id        creation_time               name  \\\n0          1  2014-04-22 03:53:30     Clausen August   \n1          2  2013-11-15 03:45:04      Poole Matthew   \n2          3  2013-03-19 23:14:52  Bottrill Mitchell   \n\n                        email creation_source  last_session_creation_time  \\\n0    AugustCClausen@yahoo.com    GUEST_INVITE                1.398139e+09   \n1      MatthewPoole@gustr.com      ORG_INVITE                1.396238e+09   \n2  MitchellBottrill@gustr.com      ORG_INVITE                1.363735e+09   \n\n   opted_in_to_mailing_list  enabled_for_marketing_drip  org_id  \\\n0                         1                           0      11   \n1                         0                           0       1   \n2                         0                           0      94   \n\n   invited_by_user_id  is_adopted     domain  \n0             10803.0           0  yahoo.com  \n1               316.0           1  gustr.com  \n2              1525.0           0  gustr.com  ",
      "text/html": "<div>\n<style scoped>\n    .dataframe tbody tr th:only-of-type {\n        vertical-align: middle;\n    }\n\n    .dataframe tbody tr th {\n        vertical-align: top;\n    }\n\n    .dataframe thead th {\n        text-align: right;\n    }\n</style>\n<table border=\"1\" class=\"dataframe\">\n  <thead>\n    <tr style=\"text-align: right;\">\n      <th></th>\n      <th>object_id</th>\n      <th>creation_time</th>\n      <th>name</th>\n      <th>email</th>\n      <th>creation_source</th>\n      <th>last_session_creation_time</th>\n      <th>opted_in_to_mailing_list</th>\n      <th>enabled_for_marketing_drip</th>\n      <th>org_id</th>\n      <th>invited_by_user_id</th>\n      <th>is_adopted</th>\n      <th>domain</th>\n    </tr>\n  </thead>\n  <tbody>\n    <tr>\n      <th>0</th>\n      <td>1</td>\n      <td>2014-04-22 03:53:30</td>\n      <td>Clausen August</td>\n      <td>AugustCClausen@yahoo.com</td>\n      <td>GUEST_INVITE</td>\n      <td>1.398139e+09</td>\n      <td>1</td>\n      <td>0</td>\n      <td>11</td>\n      <td>10803.0</td>\n      <td>0</td>\n      <td>yahoo.com</td>\n    </tr>\n    <tr>\n      <th>1</th>\n      <td>2</td>\n      <td>2013-11-15 03:45:04</td>\n      <td>Poole Matthew</td>\n      <td>MatthewPoole@gustr.com</td>\n      <td>ORG_INVITE</td>\n      <td>1.396238e+09</td>\n      <td>0</td>\n      <td>0</td>\n      <td>1</td>\n      <td>316.0</td>\n      <td>1</td>\n      <td>gustr.com</td>\n    </tr>\n    <tr>\n      <th>2</th>\n      <td>3</td>\n      <td>2013-03-19 23:14:52</td>\n      <td>Bottrill Mitchell</td>\n      <td>MitchellBottrill@gustr.com</td>\n      <td>ORG_INVITE</td>\n      <td>1.363735e+09</td>\n      <td>0</td>\n      <td>0</td>\n      <td>94</td>\n      <td>1525.0</td>\n      <td>0</td>\n      <td>gustr.com</td>\n    </tr>\n  </tbody>\n</table>\n</div>"
     },
     "execution_count": 14,
     "metadata": {},
     "output_type": "execute_result"
    }
   ],
   "source": [
    "# Set all non-common domains to 'other'.\n",
    "common_domains = sorted(['gmail.com', 'yahoo.com', 'jourrapide.com', 'cuvox.de', 'gustr.com', 'hotmail.com'])\n",
    "df_users['domain'] = np.where(df_users.domain.isin(common_domains), df_users.domain, 'other')\n",
    "df_users.head(3)"
   ],
   "metadata": {
    "collapsed": false,
    "pycharm": {
     "name": "#%%\n"
    }
   }
  },
  {
   "cell_type": "code",
   "execution_count": 15,
   "outputs": [],
   "source": [
    "# Assuming names are sensitive.\n",
    "# Therefore, need to drop name and email columns.\n",
    "df_users.drop(columns=['name', 'email'], axis=1, inplace=True)"
   ],
   "metadata": {
    "collapsed": false,
    "pycharm": {
     "name": "#%%\n"
    }
   }
  },
  {
   "cell_type": "code",
   "execution_count": 16,
   "outputs": [],
   "source": [
    "# Change the index to use the user's id.\n",
    "df_users.set_index('object_id', inplace=True)"
   ],
   "metadata": {
    "collapsed": false,
    "pycharm": {
     "name": "#%%\n"
    }
   }
  },
  {
   "cell_type": "code",
   "execution_count": 17,
   "outputs": [
    {
     "name": "stdout",
     "output_type": "stream",
     "text": [
      "<class 'pandas.core.frame.DataFrame'>\n",
      "Int64Index: 12000 entries, 1 to 12000\n",
      "Data columns (total 9 columns):\n",
      " #   Column                      Non-Null Count  Dtype         \n",
      "---  ------                      --------------  -----         \n",
      " 0   creation_time               12000 non-null  datetime64[ns]\n",
      " 1   creation_source             12000 non-null  object        \n",
      " 2   last_session_creation_time  12000 non-null  datetime64[ns]\n",
      " 3   opted_in_to_mailing_list    12000 non-null  bool          \n",
      " 4   enabled_for_marketing_drip  12000 non-null  bool          \n",
      " 5   org_id                      12000 non-null  int64         \n",
      " 6   invited_by_user_id          12000 non-null  int64         \n",
      " 7   is_adopted                  12000 non-null  bool          \n",
      " 8   domain                      12000 non-null  object        \n",
      "dtypes: bool(3), datetime64[ns](2), int64(2), object(2)\n",
      "memory usage: 691.4+ KB\n"
     ]
    }
   ],
   "source": [
    "# Fix the date time and numeric data types as needed.\n",
    "df_users.creation_time = pd.to_datetime(df_users.creation_time)\n",
    "df_users.last_session_creation_time = pd.to_datetime(df_users.last_session_creation_time)\n",
    "df_users.opted_in_to_mailing_list = df_users['opted_in_to_mailing_list'].astype('bool')\n",
    "df_users.enabled_for_marketing_drip = df_users['enabled_for_marketing_drip'].astype('bool')\n",
    "df_users.is_adopted = df_users['is_adopted'].astype('bool')\n",
    "df_users.invited_by_user_id = df_users['invited_by_user_id'].astype('int64')\n",
    "df_users.info()"
   ],
   "metadata": {
    "collapsed": false,
    "pycharm": {
     "name": "#%%\n"
    }
   }
  },
  {
   "cell_type": "code",
   "execution_count": 18,
   "outputs": [
    {
     "data": {
      "text/plain": "             org_id  invited_by_user_id\ncount  12000.000000        12000.000000\nmean     141.884583         3188.226083\nstd      124.056723         3869.411178\nmin        0.000000           -1.000000\n25%       29.000000           -1.000000\n50%      108.000000          875.000000\n75%      238.250000         6317.000000\nmax      416.000000        11999.000000",
      "text/html": "<div>\n<style scoped>\n    .dataframe tbody tr th:only-of-type {\n        vertical-align: middle;\n    }\n\n    .dataframe tbody tr th {\n        vertical-align: top;\n    }\n\n    .dataframe thead th {\n        text-align: right;\n    }\n</style>\n<table border=\"1\" class=\"dataframe\">\n  <thead>\n    <tr style=\"text-align: right;\">\n      <th></th>\n      <th>org_id</th>\n      <th>invited_by_user_id</th>\n    </tr>\n  </thead>\n  <tbody>\n    <tr>\n      <th>count</th>\n      <td>12000.000000</td>\n      <td>12000.000000</td>\n    </tr>\n    <tr>\n      <th>mean</th>\n      <td>141.884583</td>\n      <td>3188.226083</td>\n    </tr>\n    <tr>\n      <th>std</th>\n      <td>124.056723</td>\n      <td>3869.411178</td>\n    </tr>\n    <tr>\n      <th>min</th>\n      <td>0.000000</td>\n      <td>-1.000000</td>\n    </tr>\n    <tr>\n      <th>25%</th>\n      <td>29.000000</td>\n      <td>-1.000000</td>\n    </tr>\n    <tr>\n      <th>50%</th>\n      <td>108.000000</td>\n      <td>875.000000</td>\n    </tr>\n    <tr>\n      <th>75%</th>\n      <td>238.250000</td>\n      <td>6317.000000</td>\n    </tr>\n    <tr>\n      <th>max</th>\n      <td>416.000000</td>\n      <td>11999.000000</td>\n    </tr>\n  </tbody>\n</table>\n</div>"
     },
     "execution_count": 18,
     "metadata": {},
     "output_type": "execute_result"
    }
   ],
   "source": [
    "# The remaining statistics here aren't helpful.\n",
    "df_users.describe()"
   ],
   "metadata": {
    "collapsed": false,
    "pycharm": {
     "name": "#%%\n"
    }
   }
  },
  {
   "cell_type": "code",
   "execution_count": 19,
   "outputs": [
    {
     "data": {
      "text/plain": "<Figure size 432x288 with 2 Axes>",
      "image/png": "[encoded data removed]"
     },
     "metadata": {
      "needs_background": "light"
     },
     "output_type": "display_data"
    }
   ],
   "source": [
    "# Check for correlation.\n",
    "sns.heatmap(round(df_users.corr(), 2), annot=True)\n",
    "plt.title('Heat Map')\n",
    "plt.show()"
   ],
   "metadata": {
    "collapsed": false,
    "pycharm": {
     "name": "#%%\n"
    }
   }
  },
  {
   "cell_type": "code",
   "execution_count": 20,
   "outputs": [
    {
     "data": {
      "text/plain": "creation_time                 11996\ncreation_source                   5\nlast_session_creation_time     8822\nopted_in_to_mailing_list          2\nenabled_for_marketing_drip        2\norg_id                          417\ninvited_by_user_id             2565\nis_adopted                        2\ndomain                            7\ndtype: int64"
     },
     "execution_count": 20,
     "metadata": {},
     "output_type": "execute_result"
    }
   ],
   "source": [
    "# Check for categories\n",
    "df_users.nunique()"
   ],
   "metadata": {
    "collapsed": false,
    "pycharm": {
     "name": "#%%\n"
    }
   }
  },
  {
   "cell_type": "code",
   "execution_count": 21,
   "outputs": [
    {
     "data": {
      "text/plain": "ORG_INVITE            4254\nGUEST_INVITE          2163\nPERSONAL_PROJECTS     2111\nSIGNUP                2087\nSIGNUP_GOOGLE_AUTH    1385\nName: creation_source, dtype: int64"
     },
     "execution_count": 21,
     "metadata": {},
     "output_type": "execute_result"
    }
   ],
   "source": [
    "df_users.creation_source.value_counts()"
   ],
   "metadata": {
    "collapsed": false,
    "pycharm": {
     "name": "#%%\n"
    }
   }
  },
  {
   "cell_type": "code",
   "execution_count": 22,
   "outputs": [
    {
     "data": {
      "text/plain": "(100.0, 250.0]    3453\n(250.0, 500.0]    2765\n(-0.001, 20.0]    2503\n(50.0, 100.0]     1771\n(20.0, 50.0]      1508\nName: org_id, dtype: int64"
     },
     "execution_count": 22,
     "metadata": {},
     "output_type": "execute_result"
    }
   ],
   "source": [
    "# Analyzing to determine if the org_id should be grouped by size.\n",
    "# Don't see a clear pattern here.\n",
    "df_users['org_id'].value_counts(bins=[0, 20, 50, 100, 250, 500])"
   ],
   "metadata": {
    "collapsed": false,
    "pycharm": {
     "name": "#%%\n"
    }
   }
  },
  {
   "cell_type": "code",
   "execution_count": 23,
   "outputs": [
    {
     "data": {
      "text/plain": "                creation_time    last_session_creation_time  \\\nobject_id                                                     \n1         2014-04-22 03:53:30 1970-01-01 00:00:01.398138810   \n2         2013-11-15 03:45:04 1970-01-01 00:00:01.396237504   \n3         2013-03-19 23:14:52 1970-01-01 00:00:01.363734892   \n\n           opted_in_to_mailing_list  enabled_for_marketing_drip  \\\nobject_id                                                         \n1                              True                       False   \n2                             False                       False   \n3                             False                       False   \n\n           invited_by_user_id  is_adopted  source_GUEST_INVITE  \\\nobject_id                                                        \n1                       10803       False                    1   \n2                         316        True                    0   \n3                        1525       False                    0   \n\n           source_ORG_INVITE  source_PERSONAL_PROJECTS  source_SIGNUP  ...  \\\nobject_id                                                              ...   \n1                          0                         0              0  ...   \n2                          1                         0              0  ...   \n3                          1                         0              0  ...   \n\n           org_id_414  org_id_415  org_id_416  domain_cuvox.de  \\\nobject_id                                                        \n1                   0           0           0                0   \n2                   0           0           0                0   \n3                   0           0           0                0   \n\n           domain_gmail.com  domain_gustr.com  domain_hotmail.com  \\\nobject_id                                                           \n1                         0                 0                   0   \n2                         0                 1                   0   \n3                         0                 1                   0   \n\n           domain_jourrapide.com  domain_other  domain_yahoo.com  \nobject_id                                                         \n1                              0             0                 1  \n2                              0             0                 0  \n3                              0             0                 0  \n\n[3 rows x 435 columns]",
      "text/html": "<div>\n<style scoped>\n    .dataframe tbody tr th:only-of-type {\n        vertical-align: middle;\n    }\n\n    .dataframe tbody tr th {\n        vertical-align: top;\n    }\n\n    .dataframe thead th {\n        text-align: right;\n    }\n</style>\n<table border=\"1\" class=\"dataframe\">\n  <thead>\n    <tr style=\"text-align: right;\">\n      <th></th>\n      <th>creation_time</th>\n      <th>last_session_creation_time</th>\n      <th>opted_in_to_mailing_list</th>\n      <th>enabled_for_marketing_drip</th>\n      <th>invited_by_user_id</th>\n      <th>is_adopted</th>\n      <th>source_GUEST_INVITE</th>\n      <th>source_ORG_INVITE</th>\n      <th>source_PERSONAL_PROJECTS</th>\n      <th>source_SIGNUP</th>\n      <th>...</th>\n      <th>org_id_414</th>\n      <th>org_id_415</th>\n      <th>org_id_416</th>\n      <th>domain_cuvox.de</th>\n      <th>domain_gmail.com</th>\n      <th>domain_gustr.com</th>\n      <th>domain_hotmail.com</th>\n      <th>domain_jourrapide.com</th>\n      <th>domain_other</th>\n      <th>domain_yahoo.com</th>\n    </tr>\n    <tr>\n      <th>object_id</th>\n      <th></th>\n      <th></th>\n      <th></th>\n      <th></th>\n      <th></th>\n      <th></th>\n      <th></th>\n      <th></th>\n      <th></th>\n      <th></th>\n      <th></th>\n      <th></th>\n      <th></th>\n      <th></th>\n      <th></th>\n      <th></th>\n      <th></th>\n      <th></th>\n      <th></th>\n      <th></th>\n      <th></th>\n    </tr>\n  </thead>\n  <tbody>\n    <tr>\n      <th>1</th>\n      <td>2014-04-22 03:53:30</td>\n      <td>1970-01-01 00:00:01.398138810</td>\n      <td>True</td>\n      <td>False</td>\n      <td>10803</td>\n      <td>False</td>\n      <td>1</td>\n      <td>0</td>\n      <td>0</td>\n      <td>0</td>\n      <td>...</td>\n      <td>0</td>\n      <td>0</td>\n      <td>0</td>\n      <td>0</td>\n      <td>0</td>\n      <td>0</td>\n      <td>0</td>\n      <td>0</td>\n      <td>0</td>\n      <td>1</td>\n    </tr>\n    <tr>\n      <th>2</th>\n      <td>2013-11-15 03:45:04</td>\n      <td>1970-01-01 00:00:01.396237504</td>\n      <td>False</td>\n      <td>False</td>\n      <td>316</td>\n      <td>True</td>\n      <td>0</td>\n      <td>1</td>\n      <td>0</td>\n      <td>0</td>\n      <td>...</td>\n      <td>0</td>\n      <td>0</td>\n      <td>0</td>\n      <td>0</td>\n      <td>0</td>\n      <td>1</td>\n      <td>0</td>\n      <td>0</td>\n      <td>0</td>\n      <td>0</td>\n    </tr>\n    <tr>\n      <th>3</th>\n      <td>2013-03-19 23:14:52</td>\n      <td>1970-01-01 00:00:01.363734892</td>\n      <td>False</td>\n      <td>False</td>\n      <td>1525</td>\n      <td>False</td>\n      <td>0</td>\n      <td>1</td>\n      <td>0</td>\n      <td>0</td>\n      <td>...</td>\n      <td>0</td>\n      <td>0</td>\n      <td>0</td>\n      <td>0</td>\n      <td>0</td>\n      <td>1</td>\n      <td>0</td>\n      <td>0</td>\n      <td>0</td>\n      <td>0</td>\n    </tr>\n  </tbody>\n</table>\n<p>3 rows × 435 columns</p>\n</div>"
     },
     "execution_count": 23,
     "metadata": {},
     "output_type": "execute_result"
    }
   ],
   "source": [
    "# One hot encode the categories.\n",
    "df_cleaned = pd.get_dummies(df_users, prefix=['source', 'org_id', 'domain'], columns=['creation_source', 'org_id', 'domain'])\n",
    "df_cleaned.head(3)"
   ],
   "metadata": {
    "collapsed": false,
    "pycharm": {
     "name": "#%%\n"
    }
   }
  },
  {
   "cell_type": "markdown",
   "source": [
    "## Preprocess and Train"
   ],
   "metadata": {
    "collapsed": false,
    "pycharm": {
     "name": "#%% md\n"
    }
   }
  },
  {
   "cell_type": "markdown",
   "source": [
    "## Evaluate Models"
   ],
   "metadata": {
    "collapsed": false,
    "pycharm": {
     "name": "#%% md\n"
    }
   }
  },
  {
   "cell_type": "markdown",
   "source": [
    "## Summary"
   ],
   "metadata": {
    "collapsed": false,
    "pycharm": {
     "name": "#%% md\n"
    }
   }
  }
 ],
 "metadata": {
  "kernelspec": {
   "name": "pycharm-cef1f773",
   "language": "python",
   "display_name": "PyCharm (pycon2015_tutorial322)"
  },
  "language_info": {
   "codemirror_mode": {
    "name": "ipython",
    "version": 2
   },
   "file_extension": ".py",
   "mimetype": "text/x-python",
   "name": "python",
   "nbconvert_exporter": "python",
   "pygments_lexer": "ipython2",
   "version": "2.7.6"
  }
 },
 "nbformat": 4,
 "nbformat_minor": 0
}